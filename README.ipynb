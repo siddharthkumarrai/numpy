{
 "cells": [
  {
   "cell_type": "markdown",
   "metadata": {},
   "source": [
    "# Creating Array from list\n",
    "\n",
    "This notebook demonstrates how to create NumPy arrays from Python lists."
   ]
  },
  {
   "cell_type": "code",
   "execution_count": null,
   "metadata": {},
   "outputs": [],
   "source": [
    "import numpy as np"
   ]
  },
  {
   "cell_type": "markdown",
   "metadata": {},
   "source": [
    "## Creating 1D Array\n",
    "\n",
    "First, let's create a 1-dimensional array from a simple list:"
   ]
  },
  {
   "cell_type": "code",
   "execution_count": null,
   "metadata": {},
   "outputs": [],
   "source": [
    "arr_1D = np.array([1,2,3])\n",
    "print(arr_1D)"
   ]
  },
  {
   "cell_type": "markdown",
   "metadata": {},
   "source": [
    "## Creating 2D Array\n",
    "\n",
    "Now, let's create a 2-dimensional array from a nested list:"
   ]
  },
  {
   "cell_type": "code",
   "execution_count": null,
   "metadata": {},
   "outputs": [],
   "source": [
    "arr_2D = np.array([[1,2,3],[4,5,6]])\n",
    "print(arr_2D)"
   ]
  },
  {
   "cell_type": "markdown",
   "metadata": {},
   "source": [
    "## Key Points\n",
    "\n",
    "- Use `np.array()` to convert Python lists to NumPy arrays\n",
    "- 1D arrays are created from simple lists\n",
    "- 2D arrays are created from nested lists (list of lists)\n",
    "- NumPy arrays provide efficient mathematical operations and broadcasting capabilities\n",
    "\n",
    "## Array Properties\n",
    "\n",
    "Let's explore some basic properties of our arrays:"
   ]
  },
  {
   "cell_type": "code",
   "execution_count": null,
   "metadata": {},
   "outputs": [],
   "source": [
    "print(\"1D Array shape:\", arr_1D.shape)\n",
    "print(\"1D Array dtype:\", arr_1D.dtype)\n",
    "print(\"2D Array shape:\", arr_2D.shape)\n",
    "print(\"2D Array dtype:\", arr_2D.dtype)"
   ]
  }
 ],
 "metadata": {
  "kernelspec": {
   "display_name": "Python 3",
   "language": "python",
   "name": "python3"
  },
  "language_info": {
   "codemirror_mode": {
    "name": "ipython",
    "version": 3
   },
   "file_extension": ".py",
   "mimetype": "text/x-python",
   "name": "python",
   "nbconvert_exporter": "python",
   "pygments_lexer": "ipython3",
   "version": "3.8.5"
  }
 },
 "nbformat": 4,
 "nbformat_minor": 4
}
